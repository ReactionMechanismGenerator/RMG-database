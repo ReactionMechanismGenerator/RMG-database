{
 "cells": [
  {
   "cell_type": "markdown",
   "metadata": {},
   "source": [
    "# Show Training Reaction Improvements\n",
    "Run this script once before adding training reactions, and once after"
   ]
  },
  {
   "cell_type": "code",
   "execution_count": null,
   "metadata": {},
   "outputs": [],
   "source": [
    "from rmgpy.data.rmg import RMGDatabase\n",
    "from rmgpy.chemkin import save_chemkin_file, save_species_dictionary\n",
    "from rmgpy.rmg.model import Species, get_family_library_object, CoreEdgeReactionModel\n",
    "from rmgpy import settings\n",
    "from IPython.display import display\n",
    "from arkane.output import prettify\n",
    "from rmgpy.kinetics.kineticsdata import KineticsData\n",
    "from rmgpy.data.kinetics.family import TemplateReaction\n",
    "from rmgpy.data.kinetics.depository import DepositoryReaction\n",
    "from copy import copy"
   ]
  },
  {
   "cell_type": "code",
   "execution_count": null,
   "metadata": {},
   "outputs": [],
   "source": [
    "database = RMGDatabase()\n",
    "libraries = ['vinylCPD_H']\n",
    "database.load(settings['database.directory'], kinetics_families='all', reaction_libraries = libraries, \n",
    "              kinetics_depositories='all')"
   ]
  },
  {
   "cell_type": "markdown",
   "metadata": {},
   "source": [
    "## step1: find fam_rxn for each lib_rxn"
   ]
  },
  {
   "cell_type": "code",
   "execution_count": null,
   "metadata": {},
   "outputs": [],
   "source": [
    "reaction_dict = {}\n",
    "for library_name in libraries:\n",
    "    kinetic_library = database.kinetics.libraries[library_name]\n",
    "    for index, entry in kinetic_library.entries.items():\n",
    "        lib_rxn = entry.item\n",
    "        display(lib_rxn)\n",
    "        # Let's make RMG generate this reaction from the families!\n",
    "        fam_rxn_list = []\n",
    "        rxt_mol_mutation_num = 1\n",
    "        pdt_mol_mutation_num = 1\n",
    "        for reactant in lib_rxn.reactants:\n",
    "            rxt_mol_mutation_num *= len(reactant.molecule)\n",
    "\n",
    "        for product in lib_rxn.products:\n",
    "            pdt_mol_mutation_num *= len(product.molecule)\n",
    "\n",
    "        for mutation_i in range(rxt_mol_mutation_num):\n",
    "            rxts_mol = [spc.molecule[mutation_i%(len(spc.molecule))] for spc in lib_rxn.reactants]\n",
    "            pdts_mol = [spc.molecule[0] for spc in lib_rxn.products]\n",
    "            fam_rxn_list.extend(database.kinetics.generate_reactions_from_families(\n",
    "                        reactants=rxts_mol, products=pdts_mol))\n",
    "\n",
    "        if len(fam_rxn_list) == 1:\n",
    "            fam_rxn = fam_rxn_list[0]       \n",
    "            lib_reactants = [r for r in lib_rxn.reactants]        \n",
    "            fam_reactants = [r for r in fam_rxn.reactants]\n",
    "            for lib_reactant in lib_reactants:\n",
    "                for fam_reactant in fam_reactants:\n",
    "                    if lib_reactant.is_isomorphic(fam_reactant):\n",
    "                        fam_reactants.remove(fam_reactant)\n",
    "                        break\n",
    "\n",
    "            lib_products = [r for r in lib_rxn.products]        \n",
    "            fam_products = [r for r in fam_rxn.products]\n",
    "            for lib_product in lib_products:\n",
    "                for fam_product in fam_products:\n",
    "                    if lib_product.is_isomorphic(fam_product):\n",
    "                        fam_products.remove(fam_product)\n",
    "                        break\n",
    "\n",
    "            forward = not (len(fam_reactants) != 0 or len(fam_products) != 0)\n",
    "            # find the labeled atoms using family and reactants & products from fam_rxn           \n",
    "            family_database = database.kinetics.families[fam_rxn.family]\n",
    "            family_database.add_atom_labels_for_reaction(fam_rxn)\n",
    "            fam_rxn.index = lib_rxn.index\n",
    "            reaction_dict[lib_rxn]=fam_rxn\n",
    "            for spec in fam_rxn.reactants + fam_rxn.products:\n",
    "                print(spec.molecule[0].to_smiles())\n",
    "        else:\n",
    "            print('There was an issue finding a single reaction family for this reaction. Please investigate.')"
   ]
  },
  {
   "cell_type": "markdown",
   "metadata": {},
   "source": [
    "## step2: get fam_rxn's kinetics"
   ]
  },
  {
   "cell_type": "markdown",
   "metadata": {},
   "source": [
    "Check what the RMG estimated kinetics are"
   ]
  },
  {
   "cell_type": "code",
   "execution_count": null,
   "metadata": {},
   "outputs": [],
   "source": [
    "# Pick a temperature to evaluate the kinetics\n",
    "T = 623.0 "
   ]
  },
  {
   "cell_type": "code",
   "execution_count": null,
   "metadata": {},
   "outputs": [],
   "source": [
    "cem = CoreEdgeReactionModel()\n",
    "cem.kinetics_estimator = 'rate rules'\n",
    "cem.verbose_comments = True"
   ]
  },
  {
   "cell_type": "code",
   "execution_count": null,
   "metadata": {},
   "outputs": [],
   "source": [
    "for library_name in libraries:\n",
    "    kinetic_library = database.kinetics.libraries[library_name]\n",
    "    for index, entry in kinetic_library.entries.items():\n",
    "        lib_rxn = entry.item\n",
    "        try:\n",
    "            fam_rxn = reaction_dict[lib_rxn]\n",
    "        except:\n",
    "            print('There was an issue finding a single reaction family for this reaction in step 1. Skipping.')\n",
    "            continue\n",
    "        for idx, spec in enumerate(fam_rxn.reactants):\n",
    "            spec = Species(label=spec.label, molecule=spec.molecule)\n",
    "            spec.get_thermo_data()\n",
    "            fam_rxn.reactants[idx] = spec\n",
    "        for idx, spec in enumerate(fam_rxn.products):\n",
    "            spec = Species(label=spec.label, molecule=spec.molecule)\n",
    "            spec.get_thermo_data()\n",
    "            fam_rxn.products[idx] = spec\n",
    "\n",
    "        family = get_family_library_object(fam_rxn.family)\n",
    "\n",
    "        # Set the reaction kinetics\n",
    "        kinetics, source, entry_family, is_forward = cem.generate_kinetics(fam_rxn)\n",
    "        fam_rxn.kinetics = kinetics\n",
    "        # Flip the reaction direction if the kinetics are defined in the reverse direction\n",
    "        if not is_forward:\n",
    "            fam_rxn.reactants, fam_rxn.products = fam_rxn.products, fam_rxn.reactants\n",
    "            fam_rxn.pairs = [(p,r) for r,p in fam_rxn.pairs]\n",
    "        if family.own_reverse and hasattr(fam_rxn,'reverse'):\n",
    "            if not is_forward:\n",
    "                fam_rxn.template = fam_rxn.reverse.template\n",
    "            # We're done with the \"reverse\" attribute, so delete it to save a bit of memory\n",
    "            delattr(fam_rxn,'reverse')\n",
    "\n",
    "        # convert KineticsData to Arrhenius forms\n",
    "        if isinstance(fam_rxn.kinetics, KineticsData):\n",
    "            fam_rxn.kinetics = fam_rxn.kinetics.to_arrhenius()\n",
    "        #  correct barrier heights of estimated kinetics\n",
    "        if isinstance(fam_rxn,TemplateReaction) or isinstance(fam_rxn,DepositoryReaction): # i.e. not LibraryReaction\n",
    "            fam_rxn.fix_barrier_height() # also converts ArrheniusEP to Arrhenius.\n",
    "\n",
    "        if cem.pressure_dependence and fam_rxn.is_unimolecular():\n",
    "            # If this is going to be run through pressure dependence code,\n",
    "            # we need to make sure the barrier is positive.\n",
    "            fam_rxn.fix_barrier_height(force_positive=True)\n",
    "        print('===============')\n",
    "        print(index)\n",
    "        display(lib_rxn)\n",
    "        print('')\n",
    "        print('Library Kinetics')\n",
    "        print(prettify(repr(entry.data)))\n",
    "        \n",
    "        print('')\n",
    "        print('Reaction Family Kinetics After Training')\n",
    "        print('Family: {}'.format(fam_rxn.family))\n",
    "        print(prettify(repr(fam_rxn.kinetics)))\n",
    "        \n",
    "        print('')\n",
    "        print('Kinetics evaluated at {} K'.format(T))\n",
    "        print('Library Kinetics: {:.2E}'.format(entry.data.get_rate_coefficient(T)))\n",
    "        print('Reaction Family Kinetics After Training: {:.2E}'.format(fam_rxn.kinetics.get_rate_coefficient(T)))"
   ]
  },
  {
   "cell_type": "code",
   "execution_count": null,
   "metadata": {},
   "outputs": [],
   "source": []
  }
 ],
 "metadata": {
  "kernelspec": {
   "display_name": "Python 3",
   "language": "python",
   "name": "python3"
  },
  "language_info": {
   "codemirror_mode": {
    "name": "ipython",
    "version": 3
   },
   "file_extension": ".py",
   "mimetype": "text/x-python",
   "name": "python",
   "nbconvert_exporter": "python",
   "pygments_lexer": "ipython3",
   "version": "3.7.4"
  },
  "pycharm": {
   "stem_cell": {
    "cell_type": "raw",
    "source": [],
    "metadata": {
     "collapsed": false
    }
   }
  }
 },
 "nbformat": 4,
 "nbformat_minor": 1
}