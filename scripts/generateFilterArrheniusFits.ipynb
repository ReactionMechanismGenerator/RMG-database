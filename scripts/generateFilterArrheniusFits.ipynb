{
 "cells": [
  {
   "cell_type": "markdown",
   "metadata": {},
   "source": [
    "# Fit Arrhenius for reaction filtering in RMG from fastest training reactions per reaction family.\n",
    "\n",
    "This script iterates through all RMG families besides surface reaction families. For each reaction family the fastest \n",
    "training reaction for a temperature range between 298 and 2500 K are fitted into an Arrhenius fit for unimolecular\n",
    "and bimolecular reactions seperately. \n",
    "\n",
    "The Arrhenius fits are stored in a YAML file called `FilterArrheniusFits.yml` that is read once at the beginning of an RMG run and used at each iteration to identify family specific filter criteria for reaction generation. \n",
    "\n",
    "For verification, the Arrhenius fits are stored as .png files in the folder `ArrheniusFits`.\n",
    "\n",
    "Currently, the highest rate from forward or reverse is used for the Arrhenius fit."
   ]
  },
  {
   "cell_type": "code",
   "execution_count": null,
   "metadata": {},
   "outputs": [],
   "source": [
    "import os\n",
    "import operator\n",
    "\n",
    "%matplotlib inline\n",
    "import matplotlib.pyplot as plt\n",
    "import numpy\n",
    "\n",
    "from rmgpy import settings\n",
    "from rmgpy.data.kinetics.database import filter_limit_fits\n",
    "from rmgpy.data.rmg import RMGDatabase\n",
    "from rmgpy.kinetics.arrhenius import Arrhenius\n",
    "from rmgpy.thermo.thermoengine import submit"
   ]
  },
  {
   "cell_type": "markdown",
   "metadata": {},
   "source": [
    "## Load the database with RMG reaction families"
   ]
  },
  {
   "cell_type": "code",
   "execution_count": null,
   "metadata": {},
   "outputs": [],
   "source": [
    "database = RMGDatabase()\n",
    "database.load(\n",
    "    settings['database.directory'], \n",
    "    thermo_libraries = [\n",
    "        'primaryThermoLibrary',\n",
    "        'Klippenstein_Glarborg2016',\n",
    "        'BurkeH2O2',\n",
    "        'thermo_DFT_CCSDTF12_BAC',\n",
    "        'CBS_QB3_1dHR', \n",
    "        'DFT_QCI_thermo',\n",
    "        'Narayanaswamy',\n",
    "        'Lai_Hexylbenzene',\n",
    "        'SABIC_aromatics',\n",
    "        'vinylCPD_H'\n",
    "    ],\n",
    "    transport_libraries = [],\n",
    "    reaction_libraries = [],\n",
    "    seed_mechanisms = [],\n",
    "    kinetics_families = 'all',\n",
    "    kinetics_depositories = ['training'],\n",
    "    depository = False,  \n",
    ")"
   ]
  },
  {
   "cell_type": "code",
   "execution_count": null,
   "metadata": {},
   "outputs": [],
   "source": [
    "# Get Arrhenius fits for all RMG families\n",
    "families = list(database.kinetics.families.keys())"
   ]
  },
  {
   "cell_type": "code",
   "execution_count": null,
   "metadata": {
    "pycharm": {
     "is_executing": false
    }
   },
   "outputs": [],
   "source": [
    "# Temperature range to fit Arrhenius\n",
    "T_min = 298.0\n",
    "T_max = 2500.0\n",
    "T_count = 50\n",
    "Ts =  1 / numpy.linspace(1 / T_max, 1 / T_min, T_count)"
   ]
  },
  {
   "cell_type": "markdown",
   "metadata": {},
   "source": [
    "## Generate the Arrhenius fits and print .png figures"
   ]
  },
  {
   "cell_type": "code",
   "execution_count": null,
   "metadata": {},
   "outputs": [],
   "source": [
    "# Helper function\n",
    "def analyze_reactions(fam_name, molecularity=1):\n",
    "    print(fam_name)\n",
    "    \n",
    "    fam = database.kinetics.families[fam_name]\n",
    "    dep = fam.get_training_depository()\n",
    "    rxns = []\n",
    "\n",
    "    # Extract all training reactions for selected family\n",
    "    for entry in dep.entries.values():\n",
    "        r = entry.item\n",
    "        r.kinetics = entry.data\n",
    "        r.index = entry.index\n",
    "        for spc in r.reactants+r.products:\n",
    "            if spc.thermo is None:\n",
    "                submit(spc)\n",
    "        rxns.append(r)\n",
    "\n",
    "    # Only proceed if at least one training reaction is available\n",
    "    if rxns:         \n",
    "        # Get kinetic rates for unimolecular reactions\n",
    "        k_list = []\n",
    "        index_list = []\n",
    "        for rxn in rxns:\n",
    "            if len(rxn.reactants) == molecularity:\n",
    "                k_list.append(rxn.kinetics)\n",
    "                index_list.append(rxn.index)\n",
    "            if len(rxn.products) == molecularity:\n",
    "                k_list.append(rxn.generate_reverse_rate_coefficient())\n",
    "                index_list.append(rxn.index)\n",
    "\n",
    "        # Get max. kinetic rates at each discrete temperature\n",
    "        if k_list:\n",
    "            k_max_list = []\n",
    "            max_rxn_list = set()\n",
    "            for T in Ts:\n",
    "                kvals = [k.get_rate_coefficient(T) for k in k_list]\n",
    "                mydict = dict(zip(index_list, kvals))\n",
    "\n",
    "                # Find key and value of max rate coefficient\n",
    "                key_max_rate = max(mydict.items(), key=operator.itemgetter(1))[0]\n",
    "                \n",
    "                max_entry = dep.entries.get(key_max_rate)\n",
    "                max_rxn = max_entry.item\n",
    "                max_rxn_list.add(max_rxn)\n",
    "                \n",
    "                k_val = mydict[key_max_rate]\n",
    "                k_max_list.append(k_val)\n",
    "                \n",
    "                if molecularity==2 and max_rxn.check_collision_limit_violation(T_min, T_max, 10000.0, 1.0e7):\n",
    "                    display(max_rxn)\n",
    "                    print(\"\"\"The collision limit of {0} m^3/(mol*s) at {1} (K) is violated by \n",
    "                    training reaction {2} with index {3}.\n",
    "                    \n",
    "                    The rate of training reaction {2} \n",
    "                    is {4} m^3/(mol*s).\"\"\".format(max_rxn.calculate_coll_limit(T), T, max_entry, key_max_rate, k_val))\n",
    "\n",
    "            units = 's^-1' if molecularity == 1 else 'm^3/(mol*s)'\n",
    "            \n",
    "            arr = Arrhenius().fit_to_data(Ts, numpy.array(k_max_list), units)\n",
    "            \n",
    "            fig = plt.figure()\n",
    "            fig_name = fam_name\n",
    "            fig_name += ' Unimolecular' if molecularity == 1 else ' Bimolecular'\n",
    "            save_path = 'ArrheniusFits/'\n",
    "            plt.semilogy(1000.0/Ts, k_max_list, label=fig_name)\n",
    "            plt.xlabel(\"1000/T (1/K)\")\n",
    "            plt.ylabel(\"k ({0})\".format(units))\n",
    "            plt.legend(loc='upper left')\n",
    "            if molecularity == 1:\n",
    "                fig.savefig((save_path + fig_name + '.png'), bbox_inches='tight')\n",
    "            elif molecularity == 2:\n",
    "                fig.savefig((save_path + fig_name + '.png'), bbox_inches='tight')\n",
    "\n",
    "            plt.close(\"all\")\n",
    "            \n",
    "            return arr\n",
    "        \n",
    "    else:\n",
    "        arr = None\n",
    "        return arr"
   ]
  },
  {
   "cell_type": "code",
   "execution_count": null,
   "metadata": {},
   "outputs": [],
   "source": [
    "# Main - Arrhenius fitting\n",
    "families_unimol = []\n",
    "fits_unimol = []\n",
    "families_bimol = []\n",
    "fits_bimol = []\n",
    "\n",
    "# Check to see if the directory 'ArrheniusFits' for saving the .png files exists. \n",
    "# If it doesn't exist create it.\n",
    "if not os.path.exists('ArrheniusFits'):\n",
    "    os.mkdir('ArrheniusFits')\n",
    "\n",
    "for family in families:\n",
    "    # Update this script once training reaction generation for surface families works better\n",
    "    if 'Surface' not in family:\n",
    "        # Unimolecular reactions\n",
    "        arr_uni = analyze_reactions(family, molecularity=1)\n",
    "        families_unimol.append(family)\n",
    "        fits_unimol.append(arr_uni)\n",
    "        print(\"*uni_mol {0}\".format(arr_uni))\n",
    "        \n",
    "        # Bimolecular reactions\n",
    "        arr_bi = analyze_reactions(family, molecularity=2)\n",
    "        families_bimol.append(family)\n",
    "        fits_bimol.append(arr_bi)\n",
    "        print(\"*bi_mol {0}\".format(arr_bi))\n",
    "    else:\n",
    "        print(family)\n",
    "        families_unimol.append(family)\n",
    "        fits_unimol.append(None)\n",
    "        print(\"*uni_mol {0}\".format(None))\n",
    "        \n",
    "        families_bimol.append(family)\n",
    "        fits_bimol.append(None)\n",
    "        print(\"*bi_mol {0}\".format(None))\n",
    "        \n",
    "# Generate a dictionary for unimolecular and bimolecular Arrhenius fits and the corresponding reaction family name\n",
    "dict_unimol = dict(zip(families_unimol, fits_unimol))\n",
    "dict_bimol = dict(zip(families_bimol, fits_bimol))"
   ]
  },
  {
   "cell_type": "markdown",
   "metadata": {},
   "source": [
    "## Save Arrhenius fits in YAML file"
   ]
  },
  {
   "cell_type": "code",
   "execution_count": null,
   "metadata": {},
   "outputs": [],
   "source": [
    "# Generate empty ArrheniusRMGObject\n",
    "filter_fits = filter_limit_fits(unimol=dict_unimol, bimol=dict_bimol)"
   ]
  },
  {
   "cell_type": "code",
   "execution_count": null,
   "metadata": {},
   "outputs": [],
   "source": [
    "# Path to YAML file with stored Arrhenius fits\n",
    "path = '../input/FilterArrheniusFits.yml'\n",
    "filter_fits.save_yaml(path)"
   ]
  },
  {
   "cell_type": "code",
   "execution_count": null,
   "metadata": {},
   "outputs": [],
   "source": []
  }
 ],
 "metadata": {
  "kernelspec": {
   "display_name": "Python 3",
   "language": "python",
   "name": "python3"
  },
  "language_info": {
   "codemirror_mode": {
    "name": "ipython",
    "version": 3
   },
   "file_extension": ".py",
   "mimetype": "text/x-python",
   "name": "python",
   "nbconvert_exporter": "python",
   "pygments_lexer": "ipython3",
   "version": "3.7.4"
  },
  "pycharm": {
   "stem_cell": {
    "cell_type": "raw",
    "source": [],
    "metadata": {
     "collapsed": false
    }
   }
  }
 },
 "nbformat": 4,
 "nbformat_minor": 2
}