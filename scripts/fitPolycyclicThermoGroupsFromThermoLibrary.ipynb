{
 "cells": [
  {
   "cell_type": "markdown",
   "metadata": {},
   "source": [
    "# Fit Polycyclic Thermo Groups From Thermo Library Script\n",
    "\n",
    "This script takes thermo libraries and fits new polycyclic groups from them.  It saves the all of the polycyclic groups to the file `new_polycyclic.py`.  This file can be used to overwrite the original polycyclics thermo groups file in `input/thermo/groups/polycyclic.py`.\n",
    "\n",
    "**IMPORTANT:** It averages any data that is found within the libraries, but will overwrite any old thermo data.  If old data is trustworthy, this script must be modified\n",
    "    \n",
    "Uncertainties for the groups are calculated as 2s, where s is the sample standard deviation\n",
    "\n",
    "Please fill in the list of thermo libraries in the next block below"
   ]
  },
  {
   "cell_type": "code",
   "execution_count": null,
   "metadata": {},
   "outputs": [],
   "source": [
    "# Fill in the list of thermo libraries to be used for fitting polycyclic thermo groups\n",
    "thermo_libraries = ['vinylCPD_H','C3','C10H11','Fulvene_H','naphthalene_H']\n"
   ]
  },
  {
   "cell_type": "code",
   "execution_count": null,
   "metadata": {},
   "outputs": [],
   "source": [
    "import copy\n",
    "from IPython.display import display\n",
    "from rmgpy.data.thermo import *\n",
    "from rmgpy.data.base import Entry\n",
    "from rmgpy.data.rmg import RMGDatabase\n",
    "from rmgpy import settings\n",
    "from rmgpy.species import Species\n",
    "from arkane.output import prettify"
   ]
  },
  {
   "cell_type": "markdown",
   "metadata": {},
   "source": [
    "## Variety of helper functions"
   ]
  },
  {
   "cell_type": "code",
   "execution_count": null,
   "metadata": {},
   "outputs": [],
   "source": [
    "def extract_polycyclic_groups(molecule):\n",
    "    \"\"\"\n",
    "    Extract polycyclic functional groups from a real molecule\n",
    "    \"\"\"\n",
    "    struct = molecule.copy(deep=True)\n",
    "    # Saturate the structure if it is a radical\n",
    "    if struct.is_radical():\n",
    "        struct.saturate()\n",
    "    struct.delete_hydrogens()\n",
    "    \n",
    "    poly_rings = struct.get_polycycles()\n",
    "    groups = [convert_cycle_to_group(ring) for ring in poly_rings]\n",
    "    \n",
    "    return groups\n",
    "                \n",
    "def convert_cycle_to_group(cycle):\n",
    "    \"\"\"\n",
    "    This function converts a list of atoms in a cycle to a functional Group object\n",
    "    \"\"\"\n",
    "    from rmgpy.molecule.group import GroupAtom, GroupBond, Group\n",
    "    \n",
    "    # Create GroupAtom object for each atom in the cycle, label the first one in the cycle with a *\n",
    "    group_atoms = {}\n",
    "    bonds = []\n",
    "    for atom in cycle:\n",
    "        group_atoms[atom] = GroupAtom(atomType=[atom.atomtype],\n",
    "                                     radical_electrons=[0],\n",
    "                                     label='*' if cycle.index(atom)==0 else '')\n",
    "                \n",
    "    group = Group(atoms=group_atoms.values())            \n",
    "    \n",
    "    # Create GroupBond for each bond between atoms in the cycle, but not outside of the cycle\n",
    "    for atom in cycle:\n",
    "        for bonded_atom, bond in atom.edges.iteritems():\n",
    "            if bonded_atom in cycle:\n",
    "                # create a group bond with the same bond order as in the original molecule,\n",
    "                # if it hasn't already been created\n",
    "                if not group.has_bond(group_atoms[atom],group_atoms[bonded_atom]):\n",
    "                    group.add_bond(GroupBond(group_atoms[atom],group_atoms[bonded_atom],order=[bond.order]))\n",
    "            else:\n",
    "                pass\n",
    "        \n",
    "    group.update()\n",
    "    \n",
    "    return group"
   ]
  },
  {
   "cell_type": "markdown",
   "metadata": {},
   "source": [
    "## Thermo comparison and display functions"
   ]
  },
  {
   "cell_type": "code",
   "execution_count": null,
   "metadata": {},
   "outputs": [],
   "source": [
    "def display_thermo(thermoData):\n",
    "    print('H298 = {0} kcal/mol'.format(thermoData.H298.value_si/4184))\n",
    "    print('S298 = {0} cal/mol*K'.format(thermoData.S298.value_si/4.184))\n",
    "def compare_thermo_data(thermo_data1, thermo_data2):\n",
    "    del_H = thermo_data1.H298.value_si - thermo_data2.H298.value_si\n",
    "    print('Difference in H298 = {0} kcal/mol'.format(del_H/4184))\n",
    "    del_S = thermo_data1.S298.value_si - thermo_data2.S298.value_si\n",
    "    print('Difference S298 = {0} cal/mol*K'.format(del_S/4.184))\n",
    "    #T_data = [300,500,1000,2000]\n",
    "    #for T in T_data:\n",
    "    #    del_cp = thermo_data1.get_heat_capacity(T) - thermo_data2.get_heat_capacity(T)\n",
    "    #    print('Difference in cp at {0} = {1} cal/mol*K'.format(T, del_cp/4.184))"
   ]
  },
  {
   "cell_type": "markdown",
   "metadata": {},
   "source": [
    "## Load all the thermo libraries"
   ]
  },
  {
   "cell_type": "code",
   "execution_count": null,
   "metadata": {},
   "outputs": [],
   "source": [
    "database = RMGDatabase()\n",
    "database.load(settings['database.directory'], thermo_libraries = thermo_libraries, kinetics_families='none', kinetics_depositories='none', reaction_libraries=[])\n",
    "\n",
    "thermo_database = database.thermo\n",
    "thermo_database0 = copy.deepcopy(database.thermo)"
   ]
  },
  {
   "cell_type": "markdown",
   "metadata": {
    "collapsed": true
   },
   "source": [
    "## Extract polycyclic groups from thermo libraries and create new ones"
   ]
  },
  {
   "cell_type": "code",
   "execution_count": null,
   "metadata": {},
   "outputs": [],
   "source": [
    "fitting_dictionary={}\n",
    "for library_name in thermo_libraries:\n",
    "    thermo_library = database.thermo.libraries[library_name]\n",
    "    for label, entry in iter(thermo_library.entries.items()):\n",
    "        molecule = entry.item\n",
    "        library_thermo_data = entry.data\n",
    "        if molecule.get_all_polycyclic_vertices():\n",
    "            print(label)\n",
    "            species = Species(molecule=[molecule])\n",
    "            species.generate_resonance_structures() \n",
    "            print('Species has {0} resonance structures'.format(len(species.molecule)))\n",
    "            estimated_thermos = [thermo_database.estimate_thermo_via_group_additivity(molecule) \n",
    "                                 for molecule in species.molecule]\n",
    "            for estimated_thermo in estimated_thermos:\n",
    "                index = estimated_thermos.index(estimated_thermo)\n",
    "                ring_groups, polycyclic_groups = database.thermo.get_ring_groups_from_comments(estimated_thermo)\n",
    "                \n",
    "                if len(polycyclic_groups) == 0:\n",
    "                    raise Exception('Species {0} detected as polycyclic but estimated thermo contained no \\\n",
    "                                    polycyclic groups: you need to create a new polycyclic group'.format(label))\n",
    "\n",
    "                elif len(polycyclic_groups) == 1:\n",
    "                    polycyclic_group = polycyclic_groups[0]\n",
    "                    print('Molecule {0} has a single polycyclic group match in thermo estimate.'.format(\n",
    "                        species.molecule[index].to_smiles()))\n",
    "                    # Draw the molecule in ipython notebook\n",
    "                    display(species.molecule[index])\n",
    "                    print('Molecule SMILES: {0}'.format(species.molecule[index].to_smiles()))\n",
    "                    print('Estimated thermo data:')\n",
    "                    print(prettify(repr(estimated_thermo)))\n",
    "                    display_thermo(estimated_thermo)\n",
    "\n",
    "                    without_polycyclic_group_thermo = remove_thermo_data(copy.deepcopy(estimated_thermo), \n",
    "                                                                         polycyclic_group.data)\n",
    "                    new_polycyclic_group_thermo = remove_thermo_data(copy.deepcopy(library_thermo_data), \n",
    "                                                                     without_polycyclic_group_thermo)\n",
    "\n",
    "\n",
    "                    # Check to make sure that the polycyclic group is not generic\n",
    "                    # If it is, create a new polycyclicGroup as the child\n",
    "                    if polycyclic_group.label == 'PolycyclicRing':\n",
    "                        groups = extract_polycyclic_groups(species.molecule[index])\n",
    "                        print(groups[0].to_adjacency_list())\n",
    "                        assert len(groups) == 1\n",
    "                        # Create a new entry in the polycyclic groups with the same name as the thermo library entry\n",
    "                        # Make sure it does not already exist\n",
    "                        entry_label = label\n",
    "                        counter = 0\n",
    "                        while entry_label in thermoDatabase.groups['polycyclic'].entries:\n",
    "                            counter += 1\n",
    "                            entry_label = entry_label.split('-')[0]\n",
    "                            entry_label += '-{0}'.format(counter)\n",
    "\n",
    "\n",
    "                        print('Polycyclic group was found to be generic \"PolycyclicRing\". \\\n",
    "                                Creating new entry: {0}.'.format(entry_label))\n",
    "                        thermo_database.groups['polycyclic'].entries[entry_label] = Entry(index = len(\n",
    "                            thermo_database.groups['polycyclic'].entries)+1,\n",
    "                            label = entry_label,\n",
    "                            item = groups[0],\n",
    "                            data = polycyclic_group.data, # Use dummy thermo here so other estimates can find this group\n",
    "                            parent = polycyclic_group,\n",
    "                                                                                         )\n",
    "\n",
    "                        # Set the new entry as the polycyclic_group and make it a child of the generic group\n",
    "                        polycyclic_group = thermo_database.groups['polycyclic'].entries[entryLabel] \n",
    "                        thermo_database.groups['polycyclic'].entries['PolycyclicRing'].children.append(\n",
    "                            polycyclic_group)\n",
    "\n",
    "                    else:\n",
    "                        print('Matched polycyclic group \"{0}\"'.format(polycyclic_group.label))\n",
    "\n",
    "                    # Add the new group value to the fitting dictionary\n",
    "                    if polycyclic_group not in fitting_dictionary:\n",
    "                        # Add a tuple containing fitted group data, the original library entry, and thermo library\n",
    "                        fitting_dictionary[polycyclic_group]=[(new_polycyclic_group_thermo, entry, thermo_library)]\n",
    "                    else:\n",
    "                        fitting_dictionary[polycyclic_group].append((new_polycyclic_group_thermo, entry, \n",
    "                                                                     thermo_library))\n",
    "\n",
    "                elif len(polycyclic_groups) > 1:\n",
    "                    print('Species {0} has matched multiple polycyclic groups. This cannot be fitted with a single molecule\\'s thermo data.'.format(label))\n",
    "                    raise Exception\n",
    "            print('=====================')"
   ]
  },
  {
   "cell_type": "markdown",
   "metadata": {},
   "source": [
    "## Fit the polycyclic groups and write to file"
   ]
  },
  {
   "cell_type": "code",
   "execution_count": null,
   "metadata": {},
   "outputs": [],
   "source": [
    "for polycyclic_group, fitting_groups in iter(fitting_dictionary.items()):\n",
    "    print('Original thermo data for polycyclic group: {0}'.format(polycyclic_group.label))\n",
    "    if polycyclic_group.data:\n",
    "        print(prettify(repr(polycyclic_group.data)))\n",
    "    else:\n",
    "        print('No data found. Was created as a new group.')\n",
    "    \n",
    "    thermo_dataset = [fit_tuple[0] for fit_tuple in fitting_groups]\n",
    "    labels = [fit_tuple[1].label for fit_tuple in fitting_groups]\n",
    "    library_labels = [fit_tuple[2].name for fit_tuple in fitting_groups]\n",
    "    # Average the new group values to fit the original polycyclic group\n",
    "    fitted_group_data = average_thermo_data([fit_tuple[0] for fit_tuple in fitting_groups])\n",
    "    #print fitted_group_data\n",
    "    #print fitting_groups\n",
    "    polycyclic_group.data = fitted_group_data\n",
    "    polycyclic_group.short_desc = \"Fitted from thermo library values\"\n",
    "    \n",
    "    comment = ''\n",
    "    for i in range(len(labels)):\n",
    "        comment += \"Fitted from species {0} from {1} library.\\n\".format(labels[i],library_labels[i])\n",
    "    polycyclic_group.long_desc = comment.strip()\n",
    "    \n",
    "    print('Fitted thermo data for polycyclic group: {0}'.format(polycyclic_group.label))\n",
    "    print(prettify(repr(polycyclic_group.data)))\n",
    "    print(polycyclic_group.long_desc)\n",
    "    print('====================================================================')\n",
    "    # At this point, save and overwrite the entire polycyclic thermo library\n",
    "\n",
    "thermo_database.groups['polycyclic'].save('new_polycyclic.py')"
   ]
  },
  {
   "cell_type": "markdown",
   "metadata": {},
   "source": [
    "## Benchmark the new groups by checking the estimates against library values"
   ]
  },
  {
   "cell_type": "code",
   "execution_count": null,
   "metadata": {},
   "outputs": [],
   "source": [
    "# Test that the new group additivity values can estimate the old library ones.\n",
    "for library_name in thermo_libraries:\n",
    "    thermo_library = database.thermo.libraries[library_name]\n",
    "    for label, entry in iter(thermo_library.entries.items()):\n",
    "        molecule = entry.item\n",
    "        library_thermo_data = entry.data\n",
    "\n",
    "        if molecule.get_all_polycyclic_vertices():\n",
    "            species = Species(molecule=[molecule])\n",
    "            species.generate_resonance_structures()\n",
    "            print(label)\n",
    "            display (species.molecule[0])\n",
    "            print('Species has {0} resonance structures(s)'.format(len(species.molecule)))\n",
    "            find_cp0_and_cpinf(species, library_thermo_data)\n",
    "            \n",
    "            estimated_thermo = thermo_database.get_thermo_data_from_groups(species)\n",
    "            original_estimated_thermo = thermo_database0.get_thermo_data_from_groups(species)\n",
    "            if library_thermo_data.is_identical_to(estimated_thermo):\n",
    "                print('Library thermo data for species {0} matches the estimate from group additivity.\\n'.format(\n",
    "                    label))\n",
    "                \n",
    "                print('Library thermo data:') \n",
    "                display_thermo(library_thermo_data)\n",
    "                print('')   \n",
    "                \n",
    "                print('Original estimated thermo data:')                \n",
    "                ring_groups, polycyclic_groups = database.thermo.get_ring_groups_from_comments(estimated_thermo)\n",
    "                print('Polycyclic groups: {0}'.format(' '.join([grp.label for grp in polycyclic_groups])))\n",
    "                display_thermo(original_estimated_thermo)\n",
    "                print('')\n",
    "                \n",
    "                print('Comparison of library thermo with original estimated thermo')\n",
    "                compare_thermo_data(library_thermo_data, original_estimated_thermo)\n",
    "                print('')\n",
    "            else:\n",
    "                print('Library thermo data for species {0} does not match the estimate from group \\\n",
    "                    additivity\\n'.format(label))\n",
    "                \n",
    "                print('Library thermo data:')\n",
    "                display_thermo(library_thermo_data)\n",
    "                print('')                \n",
    "                \n",
    "                print('Estimated thermo data:')                 \n",
    "                \n",
    "                ring_groups, polycyclic_groups = database.thermo.get_ring_groups_from_comments(estimated_thermo)\n",
    "                print('Polycyclic groups: {0}'.format(' '.join([grp.label for grp in polycyclic_groups])))\n",
    "                display_thermo(estimated_thermo)\n",
    "                print('')\n",
    "                \n",
    "                print('Comparison of library thermo with estimated thermo')\n",
    "                compare_thermo_data(library_thermo_data, estimated_thermo)\n",
    "                print('')\n",
    "                \n",
    "                print('Original estimated thermo data:')                \n",
    "                \n",
    "                ring_groups, polycyclic_groups = database.thermo.get_ring_groups_from_comments(\n",
    "                    original_estimated_thermo)\n",
    "                print('Polycyclic groups: {0}'.format(' '.join([grp.label for grp in polycyclic_groups])))\n",
    "                display_thermo(original_estimated_thermo)\n",
    "                print('')\n",
    "                \n",
    "                print('Comparison of library thermo with original estimated thermo')\n",
    "                compare_thermo_data(library_thermo_data, original_estimated_thermo)\n",
    "                print('')\n",
    "            print('=======================')"
   ]
  },
  {
   "cell_type": "code",
   "execution_count": null,
   "metadata": {},
   "outputs": [],
   "source": []
  }
 ],
 "metadata": {
  "kernelspec": {
   "display_name": "Python 3",
   "language": "python",
   "name": "python3"
  },
  "language_info": {
   "codemirror_mode": {
    "name": "ipython",
    "version": 3
   },
   "file_extension": ".py",
   "mimetype": "text/x-python",
   "name": "python",
   "nbconvert_exporter": "python",
   "pygments_lexer": "ipython3",
   "version": "3.7.4"
  },
  "pycharm": {
   "stem_cell": {
    "cell_type": "raw",
    "source": [],
    "metadata": {
     "collapsed": false
    }
   }
  }
 },
 "nbformat": 4,
 "nbformat_minor": 1
}