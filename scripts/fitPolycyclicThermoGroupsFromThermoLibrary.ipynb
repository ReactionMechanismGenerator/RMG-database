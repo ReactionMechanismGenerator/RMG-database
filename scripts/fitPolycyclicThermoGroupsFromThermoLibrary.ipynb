{
 "cells": [
  {
   "cell_type": "markdown",
   "metadata": {},
   "source": [
    "# Fit Polycyclic Thermo Groups From Thermo Library Script\n",
    "\n",
    "This script takes thermo libraries and fits new polycyclic groups from them.  It saves the all of the polycyclic groups to the file `new_polycyclic.py`.  This file can be used to overwrite the original polycyclics thermo groups file in `input/thermo/groups/polycyclic.py`.\n",
    "\n",
    "**IMPORTANT:** It averages any data that is found within the libraries, but will overwrite any old thermo data.  If old data is trustworthy, this script must be modified\n",
    "    \n",
    "Uncertainties for the groups are calculated as 2s, where s is the sample standard deviation\n",
    "\n",
    "Please fill in the list of thermo libraries in the next block below"
   ]
  },
  {
   "cell_type": "code",
   "execution_count": null,
   "metadata": {
    "collapsed": true
   },
   "outputs": [],
   "source": [
    "# Fill in the list of thermo libraries to be used for fitting polycyclic thermo groups\n",
    "thermoLibraries = ['vinylCPD_H','C3','C10H11','Fulvene_H','naphthalene_H']\n"
   ]
  },
  {
   "cell_type": "code",
   "execution_count": null,
   "metadata": {
    "collapsed": true
   },
   "outputs": [],
   "source": [
    "import os\n",
    "import re\n",
    "import copy\n",
    "import numpy\n",
    "from IPython.display import Image, display\n",
    "from rmgpy.data.thermo import *\n",
    "from rmgpy.data.base import Entry\n",
    "from rmgpy.data.rmg import RMGDatabase\n",
    "from rmgpy import settings\n",
    "from rmgpy.species import Species\n",
    "from rmgpy.molecule import Molecule\n",
    "from rmgpy.cantherm.output import prettify"
   ]
  },
  {
   "cell_type": "markdown",
   "metadata": {},
   "source": [
    "## Variety of helper functions"
   ]
  },
  {
   "cell_type": "code",
   "execution_count": null,
   "metadata": {
    "collapsed": false
   },
   "outputs": [],
   "source": [
    "def extractPolycyclicGroups(molecule):\n",
    "    \"\"\"\n",
    "    Extract polycyclic functional groups from a real molecule\n",
    "    \"\"\"\n",
    "    struct = molecule.copy(deep=True)\n",
    "    # Saturate the structure if it is a radical\n",
    "    if struct.isRadical():\n",
    "        struct.saturate()\n",
    "    struct.deleteHydrogens()\n",
    "    \n",
    "    polyRings = struct.getPolycyclicRings()\n",
    "    groups = [convertCycleToGroup(ring) for ring in polyRings]\n",
    "    \n",
    "    return groups\n",
    "                \n",
    "def convertCycleToGroup(cycle):\n",
    "    \"\"\"\n",
    "    This function converts a list of atoms in a cycle to a functional Group object\n",
    "    \"\"\"\n",
    "    from rmgpy.molecule.group import GroupAtom, GroupBond, Group\n",
    "    \n",
    "    # Create GroupAtom object for each atom in the cycle, label the first one in the cycle with a *\n",
    "    groupAtoms = {}\n",
    "    bonds = []\n",
    "    for atom in cycle:\n",
    "        groupAtoms[atom] = GroupAtom(atomType=[atom.atomType],\n",
    "                                     radicalElectrons=[0],\n",
    "                                     label='*' if cycle.index(atom)==0 else '')\n",
    "                \n",
    "    group = Group(atoms=groupAtoms.values())            \n",
    "    \n",
    "    # Create GroupBond for each bond between atoms in the cycle, but not outside of the cycle\n",
    "    for atom in cycle:\n",
    "        for bondedAtom, bond in atom.edges.iteritems():\n",
    "            if bondedAtom in cycle:\n",
    "                # create a group bond with the same bond order as in the original molecule,\n",
    "                # if it hasn't already been created\n",
    "                if not group.hasBond(groupAtoms[atom],groupAtoms[bondedAtom]):\n",
    "                    group.addBond(GroupBond(groupAtoms[atom],groupAtoms[bondedAtom],order=[bond.order]))\n",
    "            else:\n",
    "                pass\n",
    "        \n",
    "    group.update()\n",
    "    \n",
    "    return group"
   ]
  },
  {
   "cell_type": "markdown",
   "metadata": {},
   "source": [
    "## Thermo comparison and display functions"
   ]
  },
  {
   "cell_type": "code",
   "execution_count": null,
   "metadata": {
    "collapsed": true
   },
   "outputs": [],
   "source": [
    "def displayThermo(thermoData):\n",
    "    print 'H298 = {0} kcal/mol'.format(thermoData.H298.value_si/4184)\n",
    "    print 'S298 = {0} cal/mol*K'.format(thermoData.S298.value_si/4.184)\n",
    "def compareThermoData(thermoData1, thermoData2):\n",
    "    delH = thermoData1.H298.value_si - thermoData2.H298.value_si\n",
    "    print 'Difference in H298 = {0} kcal/mol'.format(delH/4184)\n",
    "    delS = thermoData1.S298.value_si - thermoData2.S298.value_si\n",
    "    print 'Difference S298 = {0} cal/mol*K'.format(delS/4.184)\n",
    "    #Tdata = [300,500,1000,2000]\n",
    "    #for T in Tdata:\n",
    "    #    delCp = thermoData1.getHeatCapacity(T) - thermoData2.getHeatCapacity(T)\n",
    "    #    print 'Difference in Cp at {0} = {1} cal/mol*K'.format(T, delCp/4.184)"
   ]
  },
  {
   "cell_type": "markdown",
   "metadata": {},
   "source": [
    "## Load all the thermo libraries"
   ]
  },
  {
   "cell_type": "code",
   "execution_count": null,
   "metadata": {
    "collapsed": false
   },
   "outputs": [],
   "source": [
    "database = RMGDatabase()\n",
    "database.load(settings['database.directory'], thermoLibraries = thermoLibraries, kineticsFamilies='none', kineticsDepositories='none', reactionLibraries=[])\n",
    "\n",
    "thermoDatabase = database.thermo\n",
    "thermoDatabase0 = copy.deepcopy(database.thermo)"
   ]
  },
  {
   "cell_type": "markdown",
   "metadata": {
    "collapsed": true
   },
   "source": [
    "## Extract polycyclic groups from thermo libraries and create new ones"
   ]
  },
  {
   "cell_type": "code",
   "execution_count": null,
   "metadata": {
    "collapsed": false
   },
   "outputs": [],
   "source": [
    "fittingDictionary={}\n",
    "for libraryName in thermoLibraries:\n",
    "    thermoLibrary = database.thermo.libraries[libraryName]\n",
    "    for label, entry in thermoLibrary.entries.iteritems():\n",
    "        molecule = entry.item\n",
    "        libraryThermoData = entry.data\n",
    "        if molecule.getAllPolycyclicVertices():\n",
    "            print label\n",
    "            species = Species(molecule=[molecule])\n",
    "            species.generate_resonance_structures() \n",
    "            print 'Species has {0} resonance structures'.format(len(species.molecule))\n",
    "            estimatedThermos = [thermoDatabase.estimateThermoViaGroupAdditivity(molecule) for molecule in species.molecule]\n",
    "            for estimatedThermo in estimatedThermos:\n",
    "                index = estimatedThermos.index(estimatedThermo)\n",
    "                ringGroups, polycyclicGroups = database.thermo.getRingGroupsFromComments(estimatedThermo)\n",
    "                \n",
    "                if len(polycyclicGroups) == 0:\n",
    "                    raise Exception('Species {0} detected as polycyclic but estimated thermo contained no polycyclic groups: \\\n",
    "                            you need to create a new polycyclic group'.format(label))\n",
    "\n",
    "                elif len(polycyclicGroups) == 1:\n",
    "                    polycyclicGroup = polycyclicGroups[0]\n",
    "                    print 'Molecule {0} has a single polycyclic group match in thermo estimate.'.format(species.molecule[index].toSMILES())\n",
    "                    # Draw the molecule in ipython notebook\n",
    "                    display(species.molecule[index])\n",
    "                    print 'Molecule SMILES: {0}'.format(species.molecule[index].toSMILES())\n",
    "                    print 'Estimated thermo data:'\n",
    "                    print prettify(repr(estimatedThermo))\n",
    "                    displayThermo(estimatedThermo)\n",
    "\n",
    "                    withoutPolycyclicGroupThermo = removeThermoData(copy.deepcopy(estimatedThermo), polycyclicGroup.data)\n",
    "                    newPolycyclicGroupThermo = removeThermoData(copy.deepcopy(libraryThermoData), withoutPolycyclicGroupThermo)\n",
    "\n",
    "\n",
    "                    # Check to make sure that the polycyclic group is not generic\n",
    "                    # If it is, create a new polycyclicGroup as the child\n",
    "                    if polycyclicGroup.label == 'PolycyclicRing':\n",
    "                        groups = extractPolycyclicGroups(species.molecule[index])\n",
    "                        print groups[0].toAdjacencyList()\n",
    "                        assert len(groups) == 1\n",
    "                        # Create a new entry in the polycyclic groups with the same name as the thermo library entry\n",
    "                        # Make sure it does not already exist\n",
    "                        entryLabel = label\n",
    "                        counter = 0\n",
    "                        while entryLabel in thermoDatabase.groups['polycyclic'].entries:\n",
    "                            counter += 1\n",
    "                            entryLabel = entryLabel.split('-')[0]\n",
    "                            entryLabel += '-{0}'.format(counter)\n",
    "\n",
    "\n",
    "                        print 'Polycyclic group was found to be generic \"PolycyclicRing\". Creating new entry: {0}.'.format(entryLabel)\n",
    "                        thermoDatabase.groups['polycyclic'].entries[entryLabel] = Entry(index = len(thermoDatabase.groups['polycyclic'].entries)+1,\n",
    "                                                                                  label = entryLabel,\n",
    "                                                                                   item = groups[0],\n",
    "                                                                                   data = polycyclicGroup.data, # Use dummy thermo here so other estimates can find this group\n",
    "                                                                                   parent = polycyclicGroup,\n",
    "                                                                                  )\n",
    "\n",
    "                        # Set the new entry as the polycyclicGroup and make it a child of the generic group\n",
    "                        polycyclicGroup = thermoDatabase.groups['polycyclic'].entries[entryLabel] \n",
    "                        thermoDatabase.groups['polycyclic'].entries['PolycyclicRing'].children.append(polycyclicGroup)\n",
    "\n",
    "\n",
    "                    else:\n",
    "                        print 'Matched polycyclic group \"{0}\"'.format(polycyclicGroup.label)\n",
    "\n",
    "\n",
    "\n",
    "\n",
    "\n",
    "                    # Add the new group value to the fitting dictionary\n",
    "                    if polycyclicGroup not in fittingDictionary:\n",
    "                        # Add a tuple containing fitted group data, the original library entry, and thermo library\n",
    "                        fittingDictionary[polycyclicGroup]=[(newPolycyclicGroupThermo, entry, thermoLibrary)]\n",
    "                    else:\n",
    "                        fittingDictionary[polycyclicGroup].append((newPolycyclicGroupThermo, entry, thermoLibrary))\n",
    "\n",
    "                elif len(polycyclicGroups) > 1:\n",
    "                    print 'Species {0} has matched multiple polycyclic groups. \\\n",
    "                            This cannot be fitted with a single molecule\\'s thermo data.'.format(label)\n",
    "                    raise Exception\n",
    "            print '====================='"
   ]
  },
  {
   "cell_type": "markdown",
   "metadata": {},
   "source": [
    "## Fit the polycyclic groups and write to file"
   ]
  },
  {
   "cell_type": "code",
   "execution_count": null,
   "metadata": {
    "collapsed": false
   },
   "outputs": [],
   "source": [
    "for polycyclicGroup, fittingGroups in fittingDictionary.iteritems():\n",
    "    print 'Original thermo data for polycyclic group: {0}'.format(polycyclicGroup.label)\n",
    "    if polycyclicGroup.data:\n",
    "        print prettify(repr(polycyclicGroup.data))\n",
    "    else:\n",
    "        print 'No data found. Was created as a new group.'\n",
    "    \n",
    "    thermoDataset = [fitTuple[0] for fitTuple in fittingGroups]\n",
    "    labels = [fitTuple[1].label for fitTuple in fittingGroups]\n",
    "    libraryLabels = [fitTuple[2].name for fitTuple in fittingGroups]\n",
    "    # Average the new group values to fit the original polycyclic group\n",
    "    fittedGroupData = averageThermoData([fitTuple[0] for fitTuple in fittingGroups])\n",
    "    #print fittedGroupData\n",
    "    #print fittingGroups\n",
    "    polycyclicGroup.data = fittedGroupData\n",
    "    polycyclicGroup.shortDesc = \"Fitted from thermo library values\"\n",
    "    \n",
    "    comment = ''\n",
    "    for i in range(len(labels)):\n",
    "        comment += \"Fitted from species {0} from {1} library.\\n\".format(labels[i],libraryLabels[i])\n",
    "    polycyclicGroup.longDesc = comment.strip()\n",
    "    \n",
    "    print 'Fitted thermo data for polycyclic group: {0}'.format(polycyclicGroup.label)\n",
    "    print prettify(repr(polycyclicGroup.data))\n",
    "    print polycyclicGroup.longDesc\n",
    "    print '===================================================================='\n",
    "    # At this point, save and overwrite the entire polycyclic thermo library\n",
    "\n",
    "thermoDatabase.groups['polycyclic'].save('new_polycyclic.py')"
   ]
  },
  {
   "cell_type": "markdown",
   "metadata": {},
   "source": [
    "## Benchmark the new groups by checking the estimates against library values"
   ]
  },
  {
   "cell_type": "code",
   "execution_count": null,
   "metadata": {
    "collapsed": false
   },
   "outputs": [],
   "source": [
    "# Test that the new group additivity values can estimate the old library ones.\n",
    "\n",
    "for libraryName in thermoLibraries:\n",
    "    thermoLibrary = database.thermo.libraries[libraryName]\n",
    "    for label, entry in thermoLibrary.entries.iteritems():\n",
    "        molecule = entry.item\n",
    "        libraryThermoData = entry.data\n",
    "\n",
    "        if molecule.getAllPolycyclicVertices():\n",
    "            species = Species(molecule=[molecule])\n",
    "            species.generate_resonance_structures()\n",
    "            print label\n",
    "            display (species.molecule[0])\n",
    "            print 'Species has {0} resonance structures(s)'.format(len(species.molecule))\n",
    "            thermoDatabase.findCp0andCpInf(species, libraryThermoData)\n",
    "            \n",
    "            estimatedThermo = thermoDatabase.getThermoDataFromGroups(species)\n",
    "            originalEstimatedThermo = thermoDatabase0.getThermoDataFromGroups(species)\n",
    "            if libraryThermoData.isIdenticalTo(estimatedThermo):\n",
    "                print 'Library thermo data for species {0} matches the estimate from group additivity.\\n'.format(label)\n",
    "                \n",
    "                print 'Library thermo data:' \n",
    "                displayThermo(libraryThermoData)\n",
    "                print  ''   \n",
    "                \n",
    "                print 'Original estimated thermo data:'                \n",
    "                ringGroups, polycyclicGroups = database.thermo.getRingGroupsFromComments(estimatedThermo)\n",
    "                print 'Polycyclic groups: {0}'.format(' '.join([grp.label for grp in polycyclicGroups]))\n",
    "                displayThermo(originalEstimatedThermo)\n",
    "                print ''\n",
    "                \n",
    "                print 'Comparison of library thermo with original estimated thermo'\n",
    "                compareThermoData(libraryThermoData,originalEstimatedThermo)\n",
    "                print ''\n",
    "            else:\n",
    "                print 'Library thermo data for species {0} does not match the estimate from group additivity\\n'.format(label)\n",
    "                \n",
    "                print 'Library thermo data:' \n",
    "                displayThermo(libraryThermoData)\n",
    "                print  ''                \n",
    "                \n",
    "                print 'Estimated thermo data:'                 \n",
    "                \n",
    "                ringGroups, polycyclicGroups = database.thermo.getRingGroupsFromComments(estimatedThermo)\n",
    "                print 'Polycyclic groups: {0}'.format(' '.join([grp.label for grp in polycyclicGroups]))\n",
    "                displayThermo(estimatedThermo)\n",
    "                print ''\n",
    "                \n",
    "                print 'Comparison of library thermo with estimated thermo'\n",
    "                compareThermoData(libraryThermoData,estimatedThermo)\n",
    "                print ''\n",
    "                \n",
    "                print 'Original estimated thermo data:'                \n",
    "                \n",
    "                ringGroups, polycyclicGroups = database.thermo.getRingGroupsFromComments(originalEstimatedThermo)\n",
    "                print 'Polycyclic groups: {0}'.format(' '.join([grp.label for grp in polycyclicGroups]))\n",
    "                displayThermo(originalEstimatedThermo)\n",
    "                print ''\n",
    "                \n",
    "                print 'Comparison of library thermo with original estimated thermo'\n",
    "                compareThermoData(libraryThermoData,originalEstimatedThermo)\n",
    "                print ''\n",
    "            print '======================='"
   ]
  }
 ],
 "metadata": {
  "kernelspec": {
   "display_name": "Python 2",
   "language": "python",
   "name": "python2"
  },
  "language_info": {
   "codemirror_mode": {
    "name": "ipython",
    "version": 2
   },
   "file_extension": ".py",
   "mimetype": "text/x-python",
   "name": "python",
   "nbconvert_exporter": "python",
   "pygments_lexer": "ipython2",
   "version": "2.7.11"
  }
 },
 "nbformat": 4,
 "nbformat_minor": 0
}
