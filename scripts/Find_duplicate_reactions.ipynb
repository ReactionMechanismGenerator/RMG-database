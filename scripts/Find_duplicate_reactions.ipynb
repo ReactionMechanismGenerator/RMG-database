{
 "cells": [
  {
   "cell_type": "code",
   "execution_count": 1,
   "metadata": {},
   "outputs": [
    {
     "name": "stderr",
     "output_type": "stream",
     "text": [
      "Using Theano backend.\n"
     ]
    }
   ],
   "source": [
    "import os\n",
    "import time\n",
    "import operator\n",
    "import unittest \n",
    "import numpy as np\n",
    "from copy import deepcopy\n",
    "\n",
    "from rmgpy import settings\n",
    "from rmgpy.data.kinetics.database import KineticsDatabase\n",
    "from rmgpy.data.base import DatabaseError\n",
    "from rmgpy.molecule.molecule import Molecule\n",
    "from rmgpy.species import Species\n",
    "from rmgpy.data.rmg import RMGDatabase\n",
    "from rmgpy.data.kinetics.common import KineticsError, saveEntry\n",
    "from rmgpy.kinetics.arrhenius import Arrhenius\n",
    "from rmgpy.data.rmg import getDB\n",
    "from rmgpy.thermo.thermoengine import submit\n",
    "from rmgpy.reaction import Reaction\n",
    "import matplotlib.pyplot as plt\n",
    "%matplotlib inline"
   ]
  },
  {
   "cell_type": "code",
   "execution_count": 2,
   "metadata": {},
   "outputs": [],
   "source": [
    "#path = os.path.join(settings['database.directory'], 'kinetics','families')\n",
    "database = RMGDatabase()\n",
    "database.load(\n",
    "    settings['database.directory'], \n",
    "    thermoLibraries = ['primaryThermoLibrary','Klippenstein_Glarborg2016','BurkeH2O2','thermo_DFT_CCSDTF12_BAC','CBS_QB3_1dHR', 'DFT_QCI_thermo'],\n",
    "    transportLibraries = [],\n",
    "    reactionLibraries = [],\n",
    "    seedMechanisms = [],\n",
    "    kineticsFamilies = 'all',\n",
    "    kineticsDepositories = ['training'],\n",
    "    depository = False,  \n",
    ")"
   ]
  },
  {
   "cell_type": "code",
   "execution_count": 4,
   "metadata": {},
   "outputs": [],
   "source": [
    "family = database.kinetics.families[\"H_Abstraction\"]"
   ]
  },
  {
   "cell_type": "code",
   "execution_count": 8,
   "metadata": {},
   "outputs": [],
   "source": [
    "dep = family.getTrainingDepository()"
   ]
  },
  {
   "cell_type": "code",
   "execution_count": 10,
   "metadata": {},
   "outputs": [],
   "source": [
    "rxns = []\n",
    "for key,entry in dep.entries.iteritems():\n",
    "    rxn = entry.item\n",
    "    rxn.kinetics= entry.data\n",
    "    rxns.append(rxn)\n",
    "    "
   ]
  },
  {
   "cell_type": "code",
   "execution_count": 13,
   "metadata": {},
   "outputs": [],
   "source": [
    "L = np.zeros(len(rxns))\n",
    "for i,r1 in enumerate(rxns):\n",
    "    for r2 in rxns:\n",
    "        if r2.isIsomorphic(r1):\n",
    "            L[i] += 1"
   ]
  },
  {
   "cell_type": "code",
   "execution_count": 16,
   "metadata": {},
   "outputs": [],
   "source": [
    "d = dict()\n",
    "for i in xrange(len(L)):\n",
    "    if L[i] > 2:\n",
    "        d[str(rxns[i])] = L[i]"
   ]
  },
  {
   "cell_type": "code",
   "execution_count": 17,
   "metadata": {},
   "outputs": [
    {
     "data": {
      "text/plain": [
       "{'C2H3 + C2H6 <=> C2H4 + C2H5': 3.0,\n",
       " 'C2H3 + C4H6-4 <=> C2H4 + C4H5-3': 3.0,\n",
       " 'C2H4 + C2H5 <=> C2H6 + C2H3': 3.0,\n",
       " 'C2H4 + H <=> C2H3_p + H2_p': 3.0,\n",
       " 'C2H4 + OH_r3 <=> C2H3_p + H2O_p23': 3.0,\n",
       " 'C2H4O + CH3_r3 <=> CH3CO_p + CH4_p23': 3.0,\n",
       " 'C2H4O + H <=> CH3CO_p + H2_p': 3.0,\n",
       " 'C2H4O + HO2_r3 <=> CH3CO_p + H2O2_p13': 3.0,\n",
       " 'C2H4O + OH_r3 <=> CH3CO_p + H2O_p23': 3.0,\n",
       " 'C2H5 + C6H6 <=> C2H6 + C6H5': 3.0,\n",
       " 'C2H5 + CH4_r12 <=> C2H6 + CH3_p1': 3.0,\n",
       " 'C2H6 + CH3_r3 <=> C2H5b + CH4_p23': 3.0,\n",
       " 'C2H6 + H <=> C2H5b + H2_p': 3.0,\n",
       " 'C2H6 + HO2_r3 <=> C2H5b + H2O2_p13': 3.0,\n",
       " 'C2H6 + OH_r3 <=> C2H5b + H2O_p23': 3.0,\n",
       " 'C3H3 + H2 <=> C3H4-1 + H': 4.0,\n",
       " 'C3H3-2 + H2 <=> C3H4 + H': 4.0,\n",
       " 'C3H4 + H <=> H2 + C3H3-2': 4.0,\n",
       " 'C3H4-1 + H <=> H2 + C3H3': 4.0,\n",
       " 'C3H5 + C6H6 <=> C3H6 + C6H5': 3.0,\n",
       " 'C3H5 + CH4_r12 <=> C3H6 + CH3_p1': 3.0,\n",
       " 'C3H5-2 + C6H6 <=> C3H6-2 + C6H5': 3.0,\n",
       " 'C3H5S + CH4_r12 <=> C3H6S + CH3_p1': 3.0,\n",
       " 'C3H6 + C6H5 <=> C6H6 + C3H5': 3.0,\n",
       " 'C3H6-2 + C6H5 <=> C6H6 + C3H5-2': 3.0,\n",
       " 'C3H8 + C4H9O-10 <=> C3H7 + C4H10O-10': 4.0,\n",
       " 'C4H10O-10 + C3H7 <=> C3H8 + C4H9O-10': 4.0,\n",
       " 'C4H10O-10 + C3H7 <=> C4H9O-10 + C3H8': 4.0,\n",
       " 'C4H3 + CH4_r12 <=> C4H4 + CH3_p1': 3.0,\n",
       " 'C4H4 + CH3_r3 <=> CH4_p23 + C4H3': 3.0,\n",
       " 'C4H4 + CH3_r3 <=> CH4_p23 + C4H3_p': 3.0,\n",
       " 'C4H4 + H <=> H2 + C4H3': 3.0,\n",
       " 'C4H5-3 + C2H4 <=> C4H6-4 + C2H3': 3.0,\n",
       " 'C4H5-3 + C6H6 <=> C4H6-4 + C6H5': 3.0,\n",
       " 'C4H5-5 + CH4_r12 <=> C4H6 + CH3_p1': 3.0,\n",
       " 'C4H6 + CH3_r3 <=> CH4_p23 + C4H5-5': 3.0,\n",
       " 'C4H6 + CH3_r3 <=> CH4_p23 + CHCCHCH3': 3.0,\n",
       " 'C4H6 + H <=> H2 + C4H5-5': 3.0,\n",
       " 'C4H6-4 + C2H3 <=> C2H4 + C4H5-3': 3.0,\n",
       " 'C4H6-4 + C6H5 <=> C6H6 + C4H5-3': 3.0,\n",
       " 'C4H8-4 + HO2_r3 <=> C4H7-4 + H2O2': 3.0,\n",
       " 'C4H9O-10 + C3H8 <=> C4H10O-10 + C3H7': 4.0,\n",
       " 'C6H5 + C2H6 <=> C6H6 + C2H5': 3.0,\n",
       " 'C6H5 + CH4_r12 <=> C6H6 + CH3_p1': 4.0,\n",
       " 'C6H5 + H2 <=> C6H6 + H': 4.0,\n",
       " 'C6H6 + C2H5 <=> C2H6 + C6H5': 3.0,\n",
       " 'C6H6 + CH3_r3 <=> CH4_p23 + C6H5': 4.0,\n",
       " 'C6H6 + CH3_r3 <=> CH4_p23 + C6H5_p1': 4.0,\n",
       " 'C6H6 + H <=> H2 + C6H5': 4.0,\n",
       " 'C7H7 + CH4_r12 <=> C7H8 + CH3_p1': 3.0,\n",
       " 'C7H8 + CH3_r3 <=> CH4_p23 + C7H7_p': 3.0,\n",
       " 'C7H8 + H <=> H2 + C7H7': 3.0,\n",
       " 'CH3O-2 + CH4_r12 <=> CH4O-2 + CH3_p1': 3.0,\n",
       " 'CH3SH_r2 + H <=> CH2SH_p + H2_p': 3.0,\n",
       " 'CH3_r3 + C2H4O <=> CH4_p23 + C2H3O': 3.0,\n",
       " 'CH3_r3 + C2H6 <=> CH4_p23 + C2H5': 3.0,\n",
       " 'CH3_r3 + C3H6 <=> CH4_p23 + C3H5': 3.0,\n",
       " 'CH3_r3 + C3H6S <=> CH4_p23 + C3H5S': 3.0,\n",
       " 'CH3_r3 + C6H6 <=> CH4_p23 + C6H5': 4.0,\n",
       " 'CH3_r3 + C7H8 <=> CH4_p23 + C7H7': 3.0,\n",
       " 'CH4O + CH3_r3 <=> CH4_p23 + CH3O_p1': 3.0,\n",
       " 'CH4O-2 + CH3_r3 <=> CH4_p23 + CH3O-2': 3.0,\n",
       " 'CH4O-2 + H <=> CH3O_p + H2_p': 5.0,\n",
       " 'CH4O-2 + OH_r3 <=> CH3O_p + H2O_p23': 3.0,\n",
       " 'CH4O2 + HO2_r3 <=> CH3OO_p + H2O2_p13': 3.0,\n",
       " 'CH4_r12 + C2H3O <=> C2H4O + CH3_p1': 3.0,\n",
       " 'CH4_r12 + H <=> CH3_p1 + H2_p': 4.0,\n",
       " 'CH4_r12 + OH_r3 <=> CH3_p1 + H2O_p23': 3.0,\n",
       " 'H + C2H4 <=> H2 + C2H3': 3.0,\n",
       " 'H + C2H4O <=> H2 + C2H3O': 3.0,\n",
       " 'H + C2H6 <=> H2 + C2H5': 3.0,\n",
       " 'H + C3H4 <=> H2 + C3H3-2': 4.0,\n",
       " 'H + C3H4-1 <=> H2 + C3H3': 4.0,\n",
       " 'H + C3H6 <=> H2 + C3H5': 3.0,\n",
       " 'H + C4H4 <=> H2 + C4H3': 3.0,\n",
       " 'H + C4H6 <=> H2 + C4H5-5': 3.0,\n",
       " 'H + C6H6 <=> H2 + C6H5': 4.0,\n",
       " 'H + C7H8 <=> H2 + C7H7': 3.0,\n",
       " 'H + CH3SH_r2 <=> H2 + CH3S-2': 3.0,\n",
       " 'H + CH4O <=> H2_p + CH3O_p1': 5.0,\n",
       " 'H + CH4O-2 <=> H2 + CH3O-2': 5.0,\n",
       " 'H + CH4_r12 <=> H2 + CH3_p1': 4.0,\n",
       " 'H + H2O_r12 <=> H2 + OH_p1': 3.0,\n",
       " 'H + NH3_r12 <=> H2 + NH2_p23': 3.0,\n",
       " 'H2 + C2H3 <=> C2H4 + H': 3.0,\n",
       " 'H2 + C2H3O <=> C2H4O + H': 3.0,\n",
       " 'H2 + C2H5 <=> C2H6 + H': 3.0,\n",
       " 'H2 + C3H3 <=> C3H4-1 + H': 4.0,\n",
       " 'H2 + C3H3-2 <=> C3H4 + H': 4.0,\n",
       " 'H2 + C3H5 <=> C3H6 + H': 3.0,\n",
       " 'H2 + C4H3 <=> C4H4 + H': 3.0,\n",
       " 'H2 + C4H5-5 <=> C4H6 + H': 3.0,\n",
       " 'H2 + C6H5 <=> C6H6 + H': 4.0,\n",
       " 'H2 + C7H7 <=> C7H8 + H': 3.0,\n",
       " 'H2 + CH3O-2 <=> CH4O-2 + H': 5.0,\n",
       " 'H2 + CH3O-2 <=> CH4O-2 + H_p': 5.0,\n",
       " 'H2 + CH3S-2 <=> CH3SH_r2 + H': 3.0,\n",
       " 'H2 + CH3_r3 <=> CH4_p23 + H': 4.0,\n",
       " 'H2 + CH3_r3 <=> CH4_p23 + H_p': 4.0,\n",
       " 'H2 + OH_r3 <=> H2O_p23 + H_p': 3.0,\n",
       " 'H2NN(T)_r3 + NH3_r12 <=> N2H3_p23 + NH2_p1': 3.0,\n",
       " 'H2O2 + C2H3O <=> C2H4O + HO2_r3': 3.0,\n",
       " 'H2O2 + C2H5 <=> C2H6 + HO2_r3': 3.0,\n",
       " 'H2O2 + C3H5 <=> C3H6 + HO2_r3': 3.0,\n",
       " 'H2O2 + C3H5 <=> HO2 + C3H6': 3.0,\n",
       " 'H2O2 + CH3O2 <=> CH4O2 + HO2_r3': 3.0,\n",
       " 'H2O2 + CH3O2 <=> HO2 + CH4O2': 3.0,\n",
       " 'H2O_r12 + C2H3 <=> C2H4 + OH_p1': 3.0,\n",
       " 'H2O_r12 + C2H5 <=> C2H6 + OH_p1': 3.0,\n",
       " 'H2O_r12 + CH3O-2 <=> CH4O-2 + OH_p1': 3.0,\n",
       " 'H2O_r12 + CH3_r3 <=> CH4_p23 + OH_p1': 3.0,\n",
       " 'H2O_r12 + CN <=> HCN_r + OH_p1': 3.0,\n",
       " 'HCN_r + OH_r3 <=> CN_p + H2O_p23': 3.0,\n",
       " 'HO2_r3 + C2H4O <=> H2O2 + C2H3O': 3.0,\n",
       " 'HO2_r3 + C2H6 <=> H2O2 + C2H5': 3.0,\n",
       " 'HO2_r3 + C3H6 <=> H2O2 + C3H5': 3.0,\n",
       " 'HO2_r3 + C4H8-4 <=> H2O2 + C4H7-4': 3.0,\n",
       " 'HSSH_r12 + SH <=> H2S + HSS_p1': 3.0,\n",
       " 'HSS_r3 + H2S_r <=> HSSH_r12 + SH': 3.0,\n",
       " 'N2H3_r12 + NH2_r3 <=> H2N2-3 + NH3_p23': 3.0,\n",
       " 'NH2_r3 + H2 <=> NH3_p23 + H_p': 3.0,\n",
       " 'NH2_r3 + H2O_r12 <=> NH3_p23 + OH_p1': 3.0,\n",
       " 'NH2_r3 + N2H3_r12 <=> NH3_p23 + H2N2-3': 3.0,\n",
       " 'OH_r3 + C2H4 <=> H2O_p23 + C2H3': 3.0,\n",
       " 'OH_r3 + C2H4O <=> H2O_p23 + C2H3O': 3.0,\n",
       " 'OH_r3 + C2H6 <=> H2O_p23 + C2H5': 3.0,\n",
       " 'OH_r3 + CH4O-2 <=> H2O_p23 + CH3O-2': 3.0,\n",
       " 'OH_r3 + CH4_r12 <=> H2O_p23 + CH3_p1': 3.0,\n",
       " 'OH_r3 + HCN_r <=> H2O_p23 + CN': 3.0,\n",
       " 'OH_r3 + NH3_r12 <=> H2O_p23 + NH2_p23': 3.0,\n",
       " 'SH + HSSH_r12 <=> H2S_r + HSS_r3': 3.0}"
      ]
     },
     "execution_count": 17,
     "metadata": {},
     "output_type": "execute_result"
    }
   ],
   "source": [
    "d"
   ]
  },
  {
   "cell_type": "code",
   "execution_count": null,
   "metadata": {},
   "outputs": [],
   "source": []
  }
 ],
 "metadata": {
  "kernelspec": {
   "display_name": "Python 2",
   "language": "python",
   "name": "python2"
  },
  "language_info": {
   "codemirror_mode": {
    "name": "ipython",
    "version": 2
   },
   "file_extension": ".py",
   "mimetype": "text/x-python",
   "name": "python",
   "nbconvert_exporter": "python",
   "pygments_lexer": "ipython2",
   "version": "2.7.15"
  }
 },
 "nbformat": 4,
 "nbformat_minor": 2
}
