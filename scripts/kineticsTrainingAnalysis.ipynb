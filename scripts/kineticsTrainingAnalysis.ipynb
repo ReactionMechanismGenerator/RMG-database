{
 "cells": [
  {
   "cell_type": "markdown",
   "metadata": {},
   "source": [
    "# Show \"best fit\" high-pressure limit kinetics \n",
    "Run this script once to identify a list of reactions including indices that produce the highest \n",
    "rates per reaction family for unimolecular and bimolecular reactions. Based on the result, \n",
    "improve the database and run the script again. Repeat this process until the \"best fit\" \n",
    "high-pressure limit kinetics show \"reasonable\" rates."
   ]
  },
  {
   "cell_type": "code",
   "execution_count": null,
   "metadata": {},
   "outputs": [],
   "source": [
    "import os\n",
    "import time\n",
    "import operator\n",
    "import unittest \n",
    "import numpy as np\n",
    "from copy import deepcopy\n",
    "\n",
    "from rmgpy import settings\n",
    "from rmgpy.data.kinetics.database import KineticsDatabase\n",
    "from rmgpy.data.base import DatabaseError\n",
    "from rmgpy.molecule.molecule import Molecule\n",
    "from rmgpy.species import Species\n",
    "from rmgpy.data.rmg import RMGDatabase\n",
    "from rmgpy.data.kinetics.common import KineticsError, saveEntry\n",
    "from rmgpy.kinetics.arrhenius import Arrhenius\n",
    "from rmgpy.data.rmg import getDB\n",
    "from rmgpy.thermo.thermoengine import submit\n",
    "from rmgpy.reaction import Reaction\n",
    "import matplotlib.pyplot as plt\n",
    "%matplotlib inline"
   ]
  },
  {
   "cell_type": "markdown",
   "metadata": {},
   "source": [
    "## Step 1: \n",
    "Select the family to work on."
   ]
  },
  {
   "cell_type": "code",
   "execution_count": null,
   "metadata": {},
   "outputs": [],
   "source": [
    "family = 'Substitution_O'"
   ]
  },
  {
   "cell_type": "code",
   "execution_count": null,
   "metadata": {},
   "outputs": [],
   "source": [
    "#path = os.path.join(settings['database.directory'], 'kinetics','families')\n",
    "database = RMGDatabase()\n",
    "database.load(\n",
    "    settings['database.directory'], \n",
    "    thermoLibraries = ['primaryThermoLibrary','Klippenstein_Glarborg2016','BurkeH2O2','thermo_DFT_CCSDTF12_BAC','CBS_QB3_1dHR', 'DFT_QCI_thermo'],\n",
    "    transportLibraries = [],\n",
    "    reactionLibraries = [],\n",
    "    seedMechanisms = [],\n",
    "    kineticsFamilies = [family],\n",
    "    kineticsDepositories = ['training'],\n",
    "    depository = False,  \n",
    ")"
   ]
  },
  {
   "cell_type": "code",
   "execution_count": null,
   "metadata": {},
   "outputs": [],
   "source": [
    "#all_families = getDB('kinetics').families.keys()\n",
    "#all_families = ['H_Abstraction']\n",
    "\n",
    "# Discrete temperature range\n",
    "Ts = np.linspace(300,2000,30)"
   ]
  },
  {
   "cell_type": "code",
   "execution_count": null,
   "metadata": {},
   "outputs": [],
   "source": [
    "def analyze_reactions(fam_name, molecularity=1, forward=True):\n",
    "    print fam_name\n",
    "    \n",
    "    fam = database.kinetics.families[fam_name]\n",
    "    dep = fam.getTrainingDepository()\n",
    "    rxns = []\n",
    "    list_indices = []\n",
    "\n",
    "    # Extract all training reactions for selected family\n",
    "    for entry in dep.entries.values():\n",
    "        r = entry.item\n",
    "        r.kinetics = entry.data\n",
    "        r.index = entry.index\n",
    "        for spc in r.reactants+r.products:\n",
    "            if spc.thermo is None:\n",
    "                submit(spc)\n",
    "        rxns.append(r)\n",
    "\n",
    "    # Only proceed if at least one training reaction is available\n",
    "    if rxns:         \n",
    "        # Get kinetic rates for unimolecular reactions\n",
    "        k_list = []\n",
    "        index_list = []\n",
    "        for rxn in rxns:\n",
    "            if forward:\n",
    "                if len(rxn.reactants) == molecularity:\n",
    "                    k_list.append(rxn.kinetics)\n",
    "                    index_list.append(rxn.index)\n",
    "            else:\n",
    "                if len(rxn.products) == molecularity:\n",
    "                    k_list.append(rxn.generateReverseRateCoefficient())\n",
    "                    index_list.append(rxn.index)\n",
    "\n",
    "        # Get max. kinetic rates at each discrete temperature\n",
    "        if k_list:\n",
    "            k_max_list = []\n",
    "            max_rxn_list = set()\n",
    "            for T in Ts:\n",
    "                mydict = {}\n",
    "                kvals = [k.getRateCoefficient(T) for k in k_list]\n",
    "                mydict = dict(zip(index_list, kvals))\n",
    "\n",
    "                # Find key and value of max rate coefficient\n",
    "                key_max_rate = max(mydict.iteritems(), key=operator.itemgetter(1))[0]\n",
    "                \n",
    "                max_entry = dep.entries.get(key_max_rate)\n",
    "                max_rxn = max_entry.item\n",
    "                max_rxn_list.add(max_rxn)\n",
    "                \n",
    "                kval = mydict[key_max_rate]\n",
    "                k_max_list.append(kval)\n",
    "                \n",
    "                print \"\"\"For {0} 1/K training reaction {1} with index {2} has the highest rate \n",
    "                of {3}.\"\"\".format(1000.0/T, max_entry, key_max_rate, kval)\n",
    "                \n",
    "                if molecularity == 2:\n",
    "                    display(max_rxn)\n",
    "                    print \"collision limit:  {}\".format(max_rxn.calculate_coll_limit(T))\n",
    "                    print \"collision limit agrees?\"\n",
    "                    print [] == max_rxn.check_collision_limit_violation(300.0, 2000.0, 0.1, 100.0)\n",
    "\n",
    "            units = 's^-1' if molecularity == 1 else 'm^3/(mol*s)'\n",
    "                \n",
    "            arr = Arrhenius().fitToData(Ts,np.array(k_max_list), units)\n",
    "\n",
    "            fig = plt.figure()\n",
    "            fig_name = fam_name\n",
    "            fig_name += ' Unimolecular' if molecularity == 1 else ' Bimolecular'\n",
    "            #save_path = 'ArrheniusFig/'\n",
    "            plt.semilogy(1000.0/Ts, k_max_list, label=fig_name)\n",
    "            plt.xlabel(\"1000/T (1/K)\")\n",
    "            plt.ylabel(\"k ({0})\".format(units))\n",
    "            plt.legend(loc='upper left')\n",
    "            #fig.savefig((save_path + fig_name + '_Unimolecular' + '.png'), bbox_inches='tight')\n",
    "            #plt.close(\"all\")\n",
    "            \n",
    "            if not forward:\n",
    "                spc_set = set()\n",
    "                for rxn in max_rxn_list:\n",
    "                    spc_set.update(rxn.reactants)\n",
    "                    spc_set.update(rxn.products)\n",
    "                for spcs in spc_set:\n",
    "                    display(spcs)\n",
    "                    print '{0}: {1} (kJ/mol): {2}'.format(spcs, spcs.thermo.getEnthalpy(298)/1000., spcs.thermo.comment)"
   ]
  },
  {
   "cell_type": "markdown",
   "metadata": {},
   "source": [
    "## Step 2a: unimolecular reactions - forward\n",
    "Generate a list of reactions including indices that produce the highest rates per reaction family for unimolecular reactions."
   ]
  },
  {
   "cell_type": "code",
   "execution_count": null,
   "metadata": {
    "scrolled": false
   },
   "outputs": [],
   "source": [
    "analyze_reactions(family, molecularity=1, forward=True)"
   ]
  },
  {
   "cell_type": "markdown",
   "metadata": {},
   "source": [
    "## Step 2a: unimolecular reactions - backward\n",
    "Generate a list of reactions including indices that produce the highest rates per reaction family for unimolecular reactions."
   ]
  },
  {
   "cell_type": "code",
   "execution_count": null,
   "metadata": {
    "scrolled": false
   },
   "outputs": [],
   "source": [
    "analyze_reactions(family, molecularity=1, forward=False)"
   ]
  },
  {
   "cell_type": "markdown",
   "metadata": {},
   "source": [
    "## Step 2b: bimolecular reactions - forward \n",
    "Generate a list of reactions including indices that produce the highest rates per reaction family for bimolecular reactions."
   ]
  },
  {
   "cell_type": "code",
   "execution_count": null,
   "metadata": {
    "scrolled": false
   },
   "outputs": [],
   "source": [
    "analyze_reactions(family, molecularity=2, forward=True)"
   ]
  },
  {
   "cell_type": "markdown",
   "metadata": {},
   "source": [
    "## Step 2b: bimolecular reactions - backward\n",
    "Generate a list of reactions including indices that produce the highest rates per reaction family for bimolecular reactions."
   ]
  },
  {
   "cell_type": "code",
   "execution_count": null,
   "metadata": {
    "scrolled": false
   },
   "outputs": [],
   "source": [
    "analyze_reactions(family, molecularity=2, forward=False)"
   ]
  },
  {
   "cell_type": "code",
   "execution_count": null,
   "metadata": {},
   "outputs": [],
   "source": []
  },
  {
   "cell_type": "code",
   "execution_count": null,
   "metadata": {},
   "outputs": [],
   "source": []
  }
 ],
 "metadata": {
  "@webio": {
   "lastCommId": null,
   "lastKernelId": null
  },
  "kernelspec": {
   "display_name": "Python 2",
   "language": "python",
   "name": "python2"
  },
  "language_info": {
   "codemirror_mode": {
    "name": "ipython",
    "version": 2
   },
   "file_extension": ".py",
   "mimetype": "text/x-python",
   "name": "python",
   "nbconvert_exporter": "python",
   "pygments_lexer": "ipython2",
   "version": "2.7.15"
  }
 },
 "nbformat": 4,
 "nbformat_minor": 2
}
